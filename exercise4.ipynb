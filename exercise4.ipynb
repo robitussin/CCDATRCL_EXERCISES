{
  "cells": [
    {
      "cell_type": "markdown",
      "metadata": {
        "id": "view-in-github",
        "colab_type": "text"
      },
      "source": [
        "<a href=\"https://colab.research.google.com/github/robitussin/CCDATRCL_EXERCISES/blob/main/exercise4.ipynb\" target=\"_parent\"><img src=\"https://colab.research.google.com/assets/colab-badge.svg\" alt=\"Open In Colab\"/></a>"
      ]
    },
    {
      "cell_type": "markdown",
      "metadata": {
        "id": "fCO3VeNzvGDc"
      },
      "source": [
        "# Exercise 4"
      ]
    },
    {
      "cell_type": "markdown",
      "metadata": {
        "id": "6j9PZVsyvGDe"
      },
      "source": [
        "1. Sort your **student number** in **ascending order**\n",
        "\n",
        "    Example:\n",
        "    \n",
        "    **Input: 2022123456**\n",
        "\n",
        "    **Output: 0122223456**"
      ]
    },
    {
      "cell_type": "code",
      "execution_count": null,
      "metadata": {
        "id": "UuNMRCm3vGDe"
      },
      "outputs": [],
      "source": [
        "# put your answer here"
      ]
    },
    {
      "cell_type": "markdown",
      "metadata": {
        "id": "felukBjnvGDf"
      },
      "source": [
        "2. Sort the **dates** in **ascending order**.\n",
        "\n",
        "    dates = [\"12-25-2023\", birthday, \"01-01-2023\"]\n",
        "\n",
        "    Enter your birthday in the birthday variable."
      ]
    },
    {
      "cell_type": "code",
      "execution_count": null,
      "metadata": {
        "id": "f8xQ3N0jvGDg"
      },
      "outputs": [],
      "source": [
        "# put your answer here\n",
        "\n",
        "# Your birthday should be in mm-dd-yyyy\n",
        "birthday = \"\"\n",
        "\n",
        "dates = [\"12-25-2023\", birthday, \"01-01-2023\"]"
      ]
    },
    {
      "cell_type": "markdown",
      "metadata": {
        "id": "IFDPeGZxvGDg"
      },
      "source": [
        "3. Count the **total number of swaps** to sort the list below using **Bubble Sort**\n",
        "\n",
        "    |3|2|5|1|4|\n",
        "    |---|----|---|---|---|"
      ]
    },
    {
      "cell_type": "code",
      "execution_count": null,
      "metadata": {
        "id": "b1ppwLcevGDg",
        "outputId": "b38a47a6-764e-48c4-9612-2278fb72422a"
      },
      "outputs": [
        {
          "name": "stdout",
          "output_type": "stream",
          "text": [
            "\n"
          ]
        }
      ],
      "source": [
        "# put your answer here\n",
        "totalswaps = \"\"\n",
        "print(totalswaps)"
      ]
    },
    {
      "cell_type": "markdown",
      "metadata": {
        "id": "iO2UusQWvGDi"
      },
      "source": [
        "4. Count the **total number of steps** to sort the list below using **Insertion Sort**\n",
        "\n",
        "\n",
        "    |6|2|5|7|4|1|8|9|3|\n",
        "    |---|---|---|---|---|---|---|---|---|"
      ]
    },
    {
      "cell_type": "code",
      "execution_count": null,
      "metadata": {
        "id": "vq1PYEjmvGDi",
        "outputId": "144516ac-ce19-470c-a41e-bd1b04da5dbe"
      },
      "outputs": [
        {
          "name": "stdout",
          "output_type": "stream",
          "text": [
            "\n"
          ]
        }
      ],
      "source": [
        "# put your answer here\n",
        "numberofsteps = \"\"\n",
        "print(numberofsteps)"
      ]
    },
    {
      "cell_type": "markdown",
      "metadata": {
        "id": "jpfNCCdbvGDj"
      },
      "source": [
        "5. Given the list below:\n",
        "\n",
        "\n",
        "    |77|55|24|63|22|5|47|18|\n",
        "    |---|---|---|---|---|---|---|---|\n",
        "\n",
        "    Using **merge sort** and **counting sort**\n",
        "\n",
        "    Determine which sorting algorithm is faster by counting the total number of steps for each algorithm\n"
      ]
    },
    {
      "cell_type": "code",
      "execution_count": null,
      "metadata": {
        "id": "2YVK17cSvGDj",
        "outputId": "31998f12-1678-4815-e6fe-d37781b0f0cc"
      },
      "outputs": [
        {
          "name": "stdout",
          "output_type": "stream",
          "text": [
            "counting sort is faster\n"
          ]
        }
      ],
      "source": [
        "# put your answer here\n",
        "\n",
        "merge_sort_num_steps = 0\n",
        "\n",
        "counting_sort_num_steps = 0\n",
        "\n",
        "\n",
        "if merge_sort_num_steps > counting_sort_num_steps:\n",
        "    print(\"Merge sort is faster\")\n",
        "else:\n",
        "    print(\"counting sort is faster\")"
      ]
    }
  ],
  "metadata": {
    "kernelspec": {
      "display_name": "Python 3",
      "language": "python",
      "name": "python3"
    },
    "language_info": {
      "codemirror_mode": {
        "name": "ipython",
        "version": 3
      },
      "file_extension": ".py",
      "mimetype": "text/x-python",
      "name": "python",
      "nbconvert_exporter": "python",
      "pygments_lexer": "ipython3",
      "version": "3.11.4"
    },
    "orig_nbformat": 4,
    "colab": {
      "provenance": [],
      "include_colab_link": true
    }
  },
  "nbformat": 4,
  "nbformat_minor": 0
}