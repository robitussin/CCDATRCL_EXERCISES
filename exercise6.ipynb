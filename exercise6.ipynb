{
 "cells": [
  {
   "cell_type": "markdown",
   "metadata": {},
   "source": [
    "# Exercise 6"
   ]
  },
  {
   "cell_type": "markdown",
   "metadata": {},
   "source": [
    "#### Pre-defined code"
   ]
  },
  {
   "cell_type": "code",
   "execution_count": 1,
   "metadata": {},
   "outputs": [],
   "source": [
    "class Node:\n",
    "    def __init__(self, item):\n",
    "        self.left = None\n",
    "        self.right = None\n",
    "        self.val = item"
   ]
  },
  {
   "cell_type": "code",
   "execution_count": 2,
   "metadata": {},
   "outputs": [],
   "source": [
    "def inorder(root):\n",
    "\n",
    "    if root:\n",
    "        # Traverse left\n",
    "        inorder(root.left)\n",
    "        # Traverse root\n",
    "        print(str(root.val) + \"->\", end='')\n",
    "        # Traverse right\n",
    "        inorder(root.right)\n",
    "\n",
    "def postorder(root):\n",
    "\n",
    "    if root:\n",
    "        # Traverse left\n",
    "        postorder(root.left)\n",
    "        # Traverse right\n",
    "        postorder(root.right)\n",
    "        # Traverse root\n",
    "        print(str(root.val) + \"->\", end='')\n",
    "\n",
    "def preorder(root):\n",
    "\n",
    "    if root:\n",
    "        # Traverse root\n",
    "        print(str(root.val) + \"->\", end='')\n",
    "        # Traverse left\n",
    "        preorder(root.left)\n",
    "        # Traverse right\n",
    "        preorder(root.right)"
   ]
  },
  {
   "cell_type": "markdown",
   "metadata": {},
   "source": [
    "#### 1. Construct Create your own company org chart and put yourself as CEO.\n",
    "\n",
    "Using a Tree data structure,\n",
    "\n",
    "- Assign yourself as CEO\n",
    "\n",
    "- Assign any of your classmate as HR Director\n",
    "- Assign any of your classmate as Sales Director\n",
    "\n",
    "- Assign any of your classmate as trainee. His/her boss is the HR Director\n",
    "- Assign any of your classmate as a staff and trainee. Their boss is the Sales Director\n"
   ]
  },
  {
   "cell_type": "markdown",
   "metadata": {},
   "source": [
    "<img src=\"https://thumbs.dreamstime.com/z/cartoon-organization-chart-some-company-93778925.jpg\"/>"
   ]
  },
  {
   "cell_type": "code",
   "execution_count": 3,
   "metadata": {},
   "outputs": [],
   "source": [
    "# put your answer here"
   ]
  },
  {
   "cell_type": "markdown",
   "metadata": {},
   "source": [
    "#### 2. Traverse the tree in in-order traversal"
   ]
  },
  {
   "cell_type": "code",
   "execution_count": 4,
   "metadata": {},
   "outputs": [],
   "source": [
    "# put your answer here"
   ]
  },
  {
   "cell_type": "markdown",
   "metadata": {},
   "source": [
    "#### 3. Traverse the tree in pre-order traversal"
   ]
  },
  {
   "cell_type": "code",
   "execution_count": 5,
   "metadata": {},
   "outputs": [],
   "source": [
    "# put your answer here"
   ]
  },
  {
   "cell_type": "markdown",
   "metadata": {},
   "source": [
    "#### 4. Traverse the tree in post-order traversal"
   ]
  },
  {
   "cell_type": "code",
   "execution_count": 6,
   "metadata": {},
   "outputs": [],
   "source": [
    "# put your answer here"
   ]
  }
 ],
 "metadata": {
  "kernelspec": {
   "display_name": "Python 3",
   "language": "python",
   "name": "python3"
  },
  "language_info": {
   "codemirror_mode": {
    "name": "ipython",
    "version": 3
   },
   "file_extension": ".py",
   "mimetype": "text/x-python",
   "name": "python",
   "nbconvert_exporter": "python",
   "pygments_lexer": "ipython3",
   "version": "3.11.4"
  },
  "orig_nbformat": 4
 },
 "nbformat": 4,
 "nbformat_minor": 2
}
